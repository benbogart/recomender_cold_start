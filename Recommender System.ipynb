{
 "cells": [
  {
   "cell_type": "markdown",
   "id": "edebe003",
   "metadata": {},
   "source": [
    "This notebook will be an exploration of cold start methodologies in recomender systems.  I will use the Yelp dataset."
   ]
  },
  {
   "cell_type": "code",
   "execution_count": 15,
   "id": "41c85516",
   "metadata": {},
   "outputs": [],
   "source": [
    "import pandas as pd\n",
    "import sqlalchemy\n",
    "import os\n",
    "import tarfile\n",
    "import json"
   ]
  },
  {
   "cell_type": "markdown",
   "id": "045d1f0c",
   "metadata": {},
   "source": [
    "# Import json and add to database"
   ]
  },
  {
   "cell_type": "code",
   "execution_count": 4,
   "id": "a0fc9bca",
   "metadata": {},
   "outputs": [
    {
     "data": {
      "text/plain": [
       "['yelp_dataset.tar', 'yelp_dataset']"
      ]
     },
     "execution_count": 4,
     "metadata": {},
     "output_type": "execute_result"
    }
   ],
   "source": [
    "os.listdir('data')"
   ]
  },
  {
   "cell_type": "code",
   "execution_count": 6,
   "id": "0c43eca7",
   "metadata": {},
   "outputs": [
    {
     "name": "stdout",
     "output_type": "stream",
     "text": [
      "Destination already exists.\n"
     ]
    }
   ],
   "source": [
    "if not os.path.exists('data/yelp_dataset'):\n",
    "    tar = tarfile.open(os.path.join('data', 'yelp_dataset.tar'))\n",
    "    tar.extractall('data/yelp_dataset')\n",
    "else:\n",
    "    print(\"Destination already exists.\")"
   ]
  },
  {
   "cell_type": "code",
   "execution_count": 7,
   "id": "80b35625",
   "metadata": {
    "scrolled": false
   },
   "outputs": [
    {
     "data": {
      "text/plain": [
       "['yelp_academic_dataset_checkin.json',\n",
       " 'Dataset_User_Agreement.pdf',\n",
       " 'yelp_academic_dataset_tip.json',\n",
       " 'yelp_academic_dataset_review.json',\n",
       " 'yelp_academic_dataset_business.json',\n",
       " 'yelp_academic_dataset_user.json']"
      ]
     },
     "execution_count": 7,
     "metadata": {},
     "output_type": "execute_result"
    }
   ],
   "source": [
    "DATA_PATH = 'data/yelp_dataset'\n",
    "os.listdir(DATA_PATH)"
   ]
  },
  {
   "cell_type": "markdown",
   "id": "9075c892",
   "metadata": {},
   "source": [
    "## Reviews\n",
    "Reviews is too large to hold in memory, we need to write this directly to a database line by line."
   ]
  },
  {
   "cell_type": "code",
   "execution_count": 23,
   "id": "b7ad031f",
   "metadata": {},
   "outputs": [
    {
     "name": "stdout",
     "output_type": "stream",
     "text": [
      "<class 'pandas.core.frame.DataFrame'>\n",
      "RangeIndex: 1 entries, 0 to 0\n",
      "Data columns (total 9 columns):\n",
      " #   Column       Non-Null Count  Dtype  \n",
      "---  ------       --------------  -----  \n",
      " 0   review_id    1 non-null      object \n",
      " 1   user_id      1 non-null      object \n",
      " 2   business_id  1 non-null      object \n",
      " 3   stars        1 non-null      float64\n",
      " 4   useful       1 non-null      int64  \n",
      " 5   funny        1 non-null      int64  \n",
      " 6   cool         1 non-null      int64  \n",
      " 7   text         1 non-null      object \n",
      " 8   date         1 non-null      object \n",
      "dtypes: float64(1), int64(3), object(5)\n",
      "memory usage: 200.0+ bytes\n"
     ]
    }
   ],
   "source": [
    "review_file = os.path.join(DATA_PATH, 'yelp_academic_dataset_review.json')\n",
    "\n",
    "with open(review_file, 'r') as f:\n",
    "    line = f.readline()\n",
    "    line = json.loads(line)\n",
    "    line = {k: [v] for k, v in line.items()}\n",
    "    line_df = pd.DataFrame.from_dict(line)\n",
    "    \n",
    "    line_df.to_sql\n",
    "line_df.info()"
   ]
  },
  {
   "cell_type": "code",
   "execution_count": null,
   "id": "eaa79722",
   "metadata": {},
   "outputs": [],
   "source": [
    "# file too large, we run out of memory\n",
    "# review_df = pd.read_json(os.path.join(DATA_PATH, 'yelp_academic_dataset_review.json'), lines=True)"
   ]
  },
  {
   "cell_type": "markdown",
   "id": "9e6d6b25",
   "metadata": {},
   "source": [
    "## Business"
   ]
  },
  {
   "cell_type": "code",
   "execution_count": 15,
   "id": "ebcdb698",
   "metadata": {},
   "outputs": [],
   "source": [
    "business_df = pd.read_json(os.path.join(DATA_PATH, 'yelp_academic_dataset_business.json'), lines=True)"
   ]
  },
  {
   "cell_type": "code",
   "execution_count": 16,
   "id": "9082d2a9",
   "metadata": {},
   "outputs": [
    {
     "data": {
      "text/plain": [
       "(160585, 14)"
      ]
     },
     "execution_count": 16,
     "metadata": {},
     "output_type": "execute_result"
    }
   ],
   "source": [
    "business_df.shape"
   ]
  },
  {
   "cell_type": "code",
   "execution_count": 17,
   "id": "4766b27d",
   "metadata": {
    "scrolled": true
   },
   "outputs": [
    {
     "data": {
      "text/html": [
       "<div>\n",
       "<style scoped>\n",
       "    .dataframe tbody tr th:only-of-type {\n",
       "        vertical-align: middle;\n",
       "    }\n",
       "\n",
       "    .dataframe tbody tr th {\n",
       "        vertical-align: top;\n",
       "    }\n",
       "\n",
       "    .dataframe thead th {\n",
       "        text-align: right;\n",
       "    }\n",
       "</style>\n",
       "<table border=\"1\" class=\"dataframe\">\n",
       "  <thead>\n",
       "    <tr style=\"text-align: right;\">\n",
       "      <th></th>\n",
       "      <th>business_id</th>\n",
       "      <th>name</th>\n",
       "      <th>address</th>\n",
       "      <th>city</th>\n",
       "      <th>state</th>\n",
       "      <th>postal_code</th>\n",
       "      <th>latitude</th>\n",
       "      <th>longitude</th>\n",
       "      <th>stars</th>\n",
       "      <th>review_count</th>\n",
       "      <th>is_open</th>\n",
       "      <th>attributes</th>\n",
       "      <th>categories</th>\n",
       "      <th>hours</th>\n",
       "    </tr>\n",
       "  </thead>\n",
       "  <tbody>\n",
       "    <tr>\n",
       "      <th>0</th>\n",
       "      <td>6iYb2HFDywm3zjuRg0shjw</td>\n",
       "      <td>Oskar Blues Taproom</td>\n",
       "      <td>921 Pearl St</td>\n",
       "      <td>Boulder</td>\n",
       "      <td>CO</td>\n",
       "      <td>80302</td>\n",
       "      <td>40.017544</td>\n",
       "      <td>-105.283348</td>\n",
       "      <td>4.0</td>\n",
       "      <td>86</td>\n",
       "      <td>1</td>\n",
       "      <td>{'RestaurantsTableService': 'True', 'WiFi': 'u...</td>\n",
       "      <td>Gastropubs, Food, Beer Gardens, Restaurants, B...</td>\n",
       "      <td>{'Monday': '11:0-23:0', 'Tuesday': '11:0-23:0'...</td>\n",
       "    </tr>\n",
       "    <tr>\n",
       "      <th>1</th>\n",
       "      <td>tCbdrRPZA0oiIYSmHG3J0w</td>\n",
       "      <td>Flying Elephants at PDX</td>\n",
       "      <td>7000 NE Airport Way</td>\n",
       "      <td>Portland</td>\n",
       "      <td>OR</td>\n",
       "      <td>97218</td>\n",
       "      <td>45.588906</td>\n",
       "      <td>-122.593331</td>\n",
       "      <td>4.0</td>\n",
       "      <td>126</td>\n",
       "      <td>1</td>\n",
       "      <td>{'RestaurantsTakeOut': 'True', 'RestaurantsAtt...</td>\n",
       "      <td>Salad, Soup, Sandwiches, Delis, Restaurants, C...</td>\n",
       "      <td>{'Monday': '5:0-18:0', 'Tuesday': '5:0-17:0', ...</td>\n",
       "    </tr>\n",
       "    <tr>\n",
       "      <th>2</th>\n",
       "      <td>bvN78flM8NLprQ1a1y5dRg</td>\n",
       "      <td>The Reclaimory</td>\n",
       "      <td>4720 Hawthorne Ave</td>\n",
       "      <td>Portland</td>\n",
       "      <td>OR</td>\n",
       "      <td>97214</td>\n",
       "      <td>45.511907</td>\n",
       "      <td>-122.613693</td>\n",
       "      <td>4.5</td>\n",
       "      <td>13</td>\n",
       "      <td>1</td>\n",
       "      <td>{'BusinessAcceptsCreditCards': 'True', 'Restau...</td>\n",
       "      <td>Antiques, Fashion, Used, Vintage &amp; Consignment...</td>\n",
       "      <td>{'Thursday': '11:0-18:0', 'Friday': '11:0-18:0...</td>\n",
       "    </tr>\n",
       "    <tr>\n",
       "      <th>3</th>\n",
       "      <td>oaepsyvc0J17qwi8cfrOWg</td>\n",
       "      <td>Great Clips</td>\n",
       "      <td>2566 Enterprise Rd</td>\n",
       "      <td>Orange City</td>\n",
       "      <td>FL</td>\n",
       "      <td>32763</td>\n",
       "      <td>28.914482</td>\n",
       "      <td>-81.295979</td>\n",
       "      <td>3.0</td>\n",
       "      <td>8</td>\n",
       "      <td>1</td>\n",
       "      <td>{'RestaurantsPriceRange2': '1', 'BusinessAccep...</td>\n",
       "      <td>Beauty &amp; Spas, Hair Salons</td>\n",
       "      <td>None</td>\n",
       "    </tr>\n",
       "    <tr>\n",
       "      <th>4</th>\n",
       "      <td>PE9uqAjdw0E4-8mjGl3wVA</td>\n",
       "      <td>Crossfit Terminus</td>\n",
       "      <td>1046 Memorial Dr SE</td>\n",
       "      <td>Atlanta</td>\n",
       "      <td>GA</td>\n",
       "      <td>30316</td>\n",
       "      <td>33.747027</td>\n",
       "      <td>-84.353424</td>\n",
       "      <td>4.0</td>\n",
       "      <td>14</td>\n",
       "      <td>1</td>\n",
       "      <td>{'GoodForKids': 'False', 'BusinessParking': '{...</td>\n",
       "      <td>Gyms, Active Life, Interval Training Gyms, Fit...</td>\n",
       "      <td>{'Monday': '16:0-19:0', 'Tuesday': '16:0-19:0'...</td>\n",
       "    </tr>\n",
       "  </tbody>\n",
       "</table>\n",
       "</div>"
      ],
      "text/plain": [
       "              business_id                     name              address  \\\n",
       "0  6iYb2HFDywm3zjuRg0shjw      Oskar Blues Taproom         921 Pearl St   \n",
       "1  tCbdrRPZA0oiIYSmHG3J0w  Flying Elephants at PDX  7000 NE Airport Way   \n",
       "2  bvN78flM8NLprQ1a1y5dRg           The Reclaimory   4720 Hawthorne Ave   \n",
       "3  oaepsyvc0J17qwi8cfrOWg              Great Clips   2566 Enterprise Rd   \n",
       "4  PE9uqAjdw0E4-8mjGl3wVA        Crossfit Terminus  1046 Memorial Dr SE   \n",
       "\n",
       "          city state postal_code   latitude   longitude  stars  review_count  \\\n",
       "0      Boulder    CO       80302  40.017544 -105.283348    4.0            86   \n",
       "1     Portland    OR       97218  45.588906 -122.593331    4.0           126   \n",
       "2     Portland    OR       97214  45.511907 -122.613693    4.5            13   \n",
       "3  Orange City    FL       32763  28.914482  -81.295979    3.0             8   \n",
       "4      Atlanta    GA       30316  33.747027  -84.353424    4.0            14   \n",
       "\n",
       "   is_open                                         attributes  \\\n",
       "0        1  {'RestaurantsTableService': 'True', 'WiFi': 'u...   \n",
       "1        1  {'RestaurantsTakeOut': 'True', 'RestaurantsAtt...   \n",
       "2        1  {'BusinessAcceptsCreditCards': 'True', 'Restau...   \n",
       "3        1  {'RestaurantsPriceRange2': '1', 'BusinessAccep...   \n",
       "4        1  {'GoodForKids': 'False', 'BusinessParking': '{...   \n",
       "\n",
       "                                          categories  \\\n",
       "0  Gastropubs, Food, Beer Gardens, Restaurants, B...   \n",
       "1  Salad, Soup, Sandwiches, Delis, Restaurants, C...   \n",
       "2  Antiques, Fashion, Used, Vintage & Consignment...   \n",
       "3                         Beauty & Spas, Hair Salons   \n",
       "4  Gyms, Active Life, Interval Training Gyms, Fit...   \n",
       "\n",
       "                                               hours  \n",
       "0  {'Monday': '11:0-23:0', 'Tuesday': '11:0-23:0'...  \n",
       "1  {'Monday': '5:0-18:0', 'Tuesday': '5:0-17:0', ...  \n",
       "2  {'Thursday': '11:0-18:0', 'Friday': '11:0-18:0...  \n",
       "3                                               None  \n",
       "4  {'Monday': '16:0-19:0', 'Tuesday': '16:0-19:0'...  "
      ]
     },
     "execution_count": 17,
     "metadata": {},
     "output_type": "execute_result"
    }
   ],
   "source": [
    "business_df.head()"
   ]
  },
  {
   "cell_type": "code",
   "execution_count": 19,
   "id": "064d1d37",
   "metadata": {},
   "outputs": [
    {
     "data": {
      "text/plain": [
       "3580"
      ]
     },
     "execution_count": 19,
     "metadata": {},
     "output_type": "execute_result"
    }
   ],
   "source": [
    "business_df.categories.str.contains('Italian').sum()"
   ]
  },
  {
   "cell_type": "code",
   "execution_count": null,
   "id": "1595625f",
   "metadata": {},
   "outputs": [],
   "source": []
  }
 ],
 "metadata": {
  "kernelspec": {
   "display_name": "Python [conda env:webscraping]",
   "language": "python",
   "name": "conda-env-webscraping-py"
  },
  "language_info": {
   "codemirror_mode": {
    "name": "ipython",
    "version": 3
   },
   "file_extension": ".py",
   "mimetype": "text/x-python",
   "name": "python",
   "nbconvert_exporter": "python",
   "pygments_lexer": "ipython3",
   "version": "3.8.5"
  },
  "toc": {
   "base_numbering": 1,
   "nav_menu": {},
   "number_sections": true,
   "sideBar": true,
   "skip_h1_title": false,
   "title_cell": "Table of Contents",
   "title_sidebar": "Contents",
   "toc_cell": false,
   "toc_position": {},
   "toc_section_display": true,
   "toc_window_display": false
  }
 },
 "nbformat": 4,
 "nbformat_minor": 5
}
