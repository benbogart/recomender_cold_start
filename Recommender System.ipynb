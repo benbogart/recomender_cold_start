{
 "cells": [
  {
   "cell_type": "markdown",
   "id": "b98ee780",
   "metadata": {},
   "source": [
    "This notebook will be an exploration of cold start methodologies in recomender systems.  I will use the Yelp dataset."
   ]
  },
  {
   "cell_type": "code",
   "execution_count": 3,
   "id": "9541880f",
   "metadata": {},
   "outputs": [],
   "source": [
    "import pandas\n",
    "import sqlalchemy\n",
    "import os\n",
    "import tarfile"
   ]
  },
  {
   "cell_type": "markdown",
   "id": "82fa62c6",
   "metadata": {},
   "source": [
    "# Import json and add to database"
   ]
  },
  {
   "cell_type": "code",
   "execution_count": 5,
   "id": "d61d8cf8",
   "metadata": {},
   "outputs": [
    {
     "data": {
      "text/plain": [
       "['yelp_dataset.tar']"
      ]
     },
     "execution_count": 5,
     "metadata": {},
     "output_type": "execute_result"
    }
   ],
   "source": [
    "os.listdir('data')\n"
   ]
  },
  {
   "cell_type": "code",
   "execution_count": 6,
   "id": "f4bbb5e2",
   "metadata": {},
   "outputs": [],
   "source": [
    "tar = tarfile.open(os.path.join('data', 'yelp_dataset.tar'))\n",
    "tar.extractall('data/yelp_dataset')"
   ]
  },
  {
   "cell_type": "code",
   "execution_count": null,
   "id": "3b8477cb",
   "metadata": {},
   "outputs": [],
   "source": [
    "os.listdir('data/yelp_dataset')"
   ]
  },
  {
   "cell_type": "code",
   "execution_count": null,
   "id": "4d4efea7",
   "metadata": {},
   "outputs": [],
   "source": []
  }
 ],
 "metadata": {
  "kernelspec": {
   "display_name": "Python [conda env:webscraping]",
   "language": "python",
   "name": "conda-env-webscraping-py"
  },
  "language_info": {
   "codemirror_mode": {
    "name": "ipython",
    "version": 3
   },
   "file_extension": ".py",
   "mimetype": "text/x-python",
   "name": "python",
   "nbconvert_exporter": "python",
   "pygments_lexer": "ipython3",
   "version": "3.8.5"
  },
  "toc": {
   "base_numbering": 1,
   "nav_menu": {},
   "number_sections": true,
   "sideBar": true,
   "skip_h1_title": false,
   "title_cell": "Table of Contents",
   "title_sidebar": "Contents",
   "toc_cell": false,
   "toc_position": {},
   "toc_section_display": true,
   "toc_window_display": false
  }
 },
 "nbformat": 4,
 "nbformat_minor": 5
}
